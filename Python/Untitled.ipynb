{
 "cells": [
  {
   "cell_type": "code",
   "execution_count": 12,
   "id": "31a88267-6403-4480-b917-c0e1e3ef5354",
   "metadata": {},
   "outputs": [
    {
     "name": "stdin",
     "output_type": "stream",
     "text": [
      "enter String  ::  bhavesh\n"
     ]
    }
   ],
   "source": [
    "str1 = input(\"enter String  :: \")"
   ]
  },
  {
   "cell_type": "code",
   "execution_count": 3,
   "id": "d10bd597-2b84-46ec-9ddc-126cff1a48c9",
   "metadata": {},
   "outputs": [
    {
     "name": "stdin",
     "output_type": "stream",
     "text": [
      "Enter Number ::  10\n"
     ]
    }
   ],
   "source": [
    "num = int(input(\"Enter Number :: \"))"
   ]
  },
  {
   "cell_type": "code",
   "execution_count": 13,
   "id": "9c91b2fb-e5f5-4013-8db0-f092f3886dd8",
   "metadata": {},
   "outputs": [
    {
     "name": "stdout",
     "output_type": "stream",
     "text": [
      "hello world\n",
      "hello-bhavesh\n",
      "bhavesh,10\n"
     ]
    }
   ],
   "source": [
    "print(\"hello\",\"world\")\n",
    "print(\"hello\",str,sep=\"-\")\n",
    "print(str1,end=\",\")\n",
    "print(num)"
   ]
  },
  {
   "cell_type": "code",
   "execution_count": 9,
   "id": "d3ee2192-a52a-41a9-99ee-9c0a066a7361",
   "metadata": {},
   "outputs": [
    {
     "name": "stdout",
     "output_type": "stream",
     "text": [
      " 11  11  11  11  11  11  11  11  11  11 \n"
     ]
    }
   ],
   "source": [
    "print(10*\" 11 \")"
   ]
  },
  {
   "cell_type": "code",
   "execution_count": 1,
   "id": "c56071cf-3768-408b-a3d3-2b5eecfcd673",
   "metadata": {},
   "outputs": [],
   "source": [
    "a=1"
   ]
  },
  {
   "cell_type": "markdown",
   "id": "d08a1714-38a7-4097-9d3e-58d115bdf949",
   "metadata": {},
   "source": [
    "# String :: \n",
    "# is immutable , sequence of charcter ,Unicode ,Use triple quotes for multiple line string"
   ]
  },
  {
   "cell_type": "code",
   "execution_count": 16,
   "id": "6fc0ccc0-675b-4ec2-b8c9-a6630fbecfe1",
   "metadata": {},
   "outputs": [],
   "source": [
    "s = \" Hello Bhavesh! How are you \""
   ]
  },
  {
   "cell_type": "code",
   "execution_count": 25,
   "id": "905f52b2-c00b-475d-a622-9dc93c937641",
   "metadata": {},
   "outputs": [
    {
     "name": "stdout",
     "output_type": "stream",
     "text": [
      "28\n",
      " hello bhavesh! how are you \n",
      " HELLO BHAVESH! HOW ARE YOU \n",
      "False\n",
      "False\n",
      "Hello Bhavesh! How are you \n",
      " Hello BHAVESH! How are you \n",
      "Hello Bhavesh! How are you\n",
      "7\n",
      "2\n",
      " uoy era woH !hsevahB olleH \n",
      " Hell\n",
      " el hvs!Hwaeyu\n"
     ]
    }
   ],
   "source": [
    "print(len(s))\n",
    "print(s.lower())\n",
    "print(s.upper())\n",
    "print(s.isalnum())\n",
    "print(s.isdigit())\n",
    "print(s.lstrip())\n",
    "print(s.replace(\"Bhavesh\",\"BHAVESH\"))\n",
    "print(s.strip())\n",
    "print(s.find(\"Bh\"))\n",
    "print(s.count(\"a\"))\n",
    "print(s[::-1])\n",
    "print(s[:5])\n",
    "print(s[::2])"
   ]
  },
  {
   "cell_type": "markdown",
   "id": "9f2f732b-b5e6-4b11-a349-4d30f810dc2c",
   "metadata": {},
   "source": [
    "# List ::\n",
    "# it is mutable , sequence of object ,allowed duplicate "
   ]
  },
  {
   "cell_type": "code",
   "execution_count": 22,
   "id": "3127015d-63a9-48c1-9c77-ad4755de4e16",
   "metadata": {},
   "outputs": [],
   "source": [
    "lst = [1,2,3.0,45,\"bahvesh\",\"hello\"]"
   ]
  },
  {
   "cell_type": "code",
   "execution_count": 26,
   "id": "a76d0387-99df-4020-8211-d585c19583f8",
   "metadata": {},
   "outputs": [
    {
     "data": {
      "text/plain": [
       "2"
      ]
     },
     "execution_count": 26,
     "metadata": {},
     "output_type": "execute_result"
    }
   ],
   "source": [
    "lst[1]"
   ]
  },
  {
   "cell_type": "code",
   "execution_count": 35,
   "id": "51a197b1-88ba-49a8-b64a-2a46a63839fc",
   "metadata": {},
   "outputs": [
    {
     "name": "stdout",
     "output_type": "stream",
     "text": [
      "18\n",
      "None\n",
      "2\n",
      "None\n",
      "None\n",
      "[1, 2, 3.0, 45, 'bahvesh', 'hello', 'end', 'end', 'end', 9, 'end', 9, 'end', 9, 'end', 9, 'end', 9, 'end', 9, 87]\n",
      "87\n",
      "[1, 2, 3.0, 45, 'bahvesh', 'hello', 'end', 'end', 'end', 9, 'end', 9, 'end', 9, 'end', 9, 'end', 9, 'end', 9]\n",
      "[9, 'end', 9, 'end', 9, 'end', 9, 'end', 9, 'end', 9, 'end', 'end', 'end', 'hello', 'bahvesh', 45, 3.0, 2, 1]\n",
      "8\n"
     ]
    }
   ],
   "source": [
    "print(len(lst))\n",
    "print(lst.append(\"end\"))\n",
    "print(lst.index(3))\n",
    "print(lst.extend([0,9,87]))\n",
    "print(lst.remove(0))\n",
    "print(lst)\n",
    "print(lst.pop())\n",
    "print(lst)\n",
    "print(lst[::-1])\n",
    "print(lst.count(\"end \"))"
   ]
  },
  {
   "cell_type": "markdown",
   "id": "095766dd-ce0e-4dae-8b2b-97e3d0c7a2fd",
   "metadata": {},
   "source": [
    "# Sets ::\n",
    "# it is mutable , unordered sequence of object ,does not allowed duplicate "
   ]
  },
  {
   "cell_type": "code",
   "execution_count": 38,
   "id": "59016d60-5a73-47b5-ba21-405b1f7bd125",
   "metadata": {},
   "outputs": [],
   "source": [
    "st_var1 = {1,23,4,4,\"hello\"}"
   ]
  },
  {
   "cell_type": "code",
   "execution_count": 39,
   "id": "dfcd76a6-1935-4d1a-9ca8-a4a86c58d7ed",
   "metadata": {},
   "outputs": [
    {
     "data": {
      "text/plain": [
       "{1, 23, 4, 'hello'}"
      ]
     },
     "execution_count": 39,
     "metadata": {},
     "output_type": "execute_result"
    }
   ],
   "source": [
    "st_var1"
   ]
  },
  {
   "cell_type": "code",
   "execution_count": 40,
   "id": "78aa1e95-e017-4694-ae9a-46a132bfca1f",
   "metadata": {},
   "outputs": [],
   "source": [
    "st_var2 = {1,2,3,4,\"bye\"}"
   ]
  },
  {
   "cell_type": "code",
   "execution_count": 41,
   "id": "ec863d36-cb0a-4be3-82be-0c0ca50b25f5",
   "metadata": {},
   "outputs": [],
   "source": [
    "st_var1.add(\"bye\")"
   ]
  },
  {
   "cell_type": "code",
   "execution_count": 42,
   "id": "00c7a24c-d23b-40b3-b6f2-6da8b748bf69",
   "metadata": {},
   "outputs": [
    {
     "name": "stdout",
     "output_type": "stream",
     "text": [
      "{'hello', 23}\n",
      "{1, 'bye', 4}\n"
     ]
    }
   ],
   "source": [
    "print(st_var1.difference(st_var2))\n",
    "print(st_var1.intersection(st_var2))"
   ]
  },
  {
   "cell_type": "markdown",
   "id": "39444d51-f60e-462d-8d94-56ee35aa562f",
   "metadata": {},
   "source": [
    "# Tuples ::\n",
    "# it is immutable , orders sequence ,allowed duplicate "
   ]
  },
  {
   "cell_type": "code",
   "execution_count": 43,
   "id": "d48fc3ae-9d5a-4157-a539-4215a6288770",
   "metadata": {},
   "outputs": [],
   "source": [
    "tp = (1,2,4,5,\"hello1\")"
   ]
  },
  {
   "cell_type": "code",
   "execution_count": 44,
   "id": "1885429c-e230-439e-958c-966f7b49bb3a",
   "metadata": {},
   "outputs": [
    {
     "data": {
      "text/plain": [
       "(1, 2, 4, 5, 'hello1')"
      ]
     },
     "execution_count": 44,
     "metadata": {},
     "output_type": "execute_result"
    }
   ],
   "source": [
    "tp "
   ]
  },
  {
   "cell_type": "markdown",
   "id": "acbbe622-67db-4ebf-8d6e-e902c359b12e",
   "metadata": {},
   "source": [
    "# Dictionary ::\n",
    "# it is mutable , onordered collection of object , it have key-value pairs , key not duplicate value can "
   ]
  },
  {
   "cell_type": "code",
   "execution_count": 48,
   "id": "3e9fffd7-e95d-4278-a672-fbc81dc4f3bb",
   "metadata": {},
   "outputs": [
    {
     "data": {
      "text/plain": [
       "{'car1': 'BMW', 'car2': 'Audi', 'car3': 'Mar', 'car4': 'Creta'}"
      ]
     },
     "execution_count": 48,
     "metadata": {},
     "output_type": "execute_result"
    }
   ],
   "source": [
    "dic = {\"car1\":\"BMW\",\"car2\":\"Audi\",\"car3\":\"Mar\",\"car4\":\"Creta\",}\n",
    "dic"
   ]
  },
  {
   "cell_type": "code",
   "execution_count": 53,
   "id": "d3a70729-6ae9-4a3b-a171-88698d9c0545",
   "metadata": {},
   "outputs": [
    {
     "name": "stdout",
     "output_type": "stream",
     "text": [
      "dict_keys(['car1', 'car2', 'car3', 'car4'])\n",
      "dict_values(['BMW', 'Audi', 'Mar', 'Creta'])\n",
      "dict_items([('car1', 'BMW'), ('car2', 'Audi'), ('car3', 'Mar'), ('car4', 'Creta')])\n",
      "BMW\n"
     ]
    }
   ],
   "source": [
    "print(dic.keys())\n",
    "print(dic.values())\n",
    "print(dic.items())\n",
    "print(dic[\"car1\"])"
   ]
  }
 ],
 "metadata": {
  "kernelspec": {
   "display_name": "Python 3 (ipykernel)",
   "language": "python",
   "name": "python3"
  },
  "language_info": {
   "codemirror_mode": {
    "name": "ipython",
    "version": 3
   },
   "file_extension": ".py",
   "mimetype": "text/x-python",
   "name": "python",
   "nbconvert_exporter": "python",
   "pygments_lexer": "ipython3",
   "version": "3.12.7"
  }
 },
 "nbformat": 4,
 "nbformat_minor": 5
}
